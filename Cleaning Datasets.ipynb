{
 "cells": [
  {
   "cell_type": "code",
   "execution_count": 2,
   "id": "2824e664-4baf-4d0d-a67f-91e2ce8e4408",
   "metadata": {},
   "outputs": [],
   "source": [
    "import pandas as pd\n",
    "import numpy as np\n",
    "import seaborn as sns\n",
    "import matplotlib.pyplot as plt"
   ]
  },
  {
   "cell_type": "code",
   "execution_count": 3,
   "id": "ccae0993-6057-4317-b531-4954a6e5cc3a",
   "metadata": {},
   "outputs": [
    {
     "ename": "FileNotFoundError",
     "evalue": "[Errno 2] No such file or directory: 'blinkit_customer_feedback.csv'",
     "output_type": "error",
     "traceback": [
      "\u001b[0;31m---------------------------------------------------------------------------\u001b[0m",
      "\u001b[0;31mFileNotFoundError\u001b[0m                         Traceback (most recent call last)",
      "Cell \u001b[0;32mIn[3], line 2\u001b[0m\n\u001b[1;32m      1\u001b[0m \u001b[38;5;66;03m#Load Datasets\u001b[39;00m\n\u001b[0;32m----> 2\u001b[0m customer_feedback \u001b[38;5;241m=\u001b[39m \u001b[43mpd\u001b[49m\u001b[38;5;241;43m.\u001b[39;49m\u001b[43mread_csv\u001b[49m\u001b[43m(\u001b[49m\u001b[38;5;124;43m\"\u001b[39;49m\u001b[38;5;124;43mblinkit_customer_feedback.csv\u001b[39;49m\u001b[38;5;124;43m\"\u001b[39;49m\u001b[43m)\u001b[49m\n\u001b[1;32m      3\u001b[0m customers \u001b[38;5;241m=\u001b[39m pd\u001b[38;5;241m.\u001b[39mread_csv(\u001b[38;5;124m\"\u001b[39m\u001b[38;5;124mblinkit_customers.csv\u001b[39m\u001b[38;5;124m\"\u001b[39m)\n\u001b[1;32m      4\u001b[0m delivery_performance \u001b[38;5;241m=\u001b[39m pd\u001b[38;5;241m.\u001b[39mread_csv(\u001b[38;5;124m\"\u001b[39m\u001b[38;5;124mblinkit_delivery_performance.csv\u001b[39m\u001b[38;5;124m\"\u001b[39m)\n",
      "File \u001b[0;32m/Library/Frameworks/Python.framework/Versions/3.13/lib/python3.13/site-packages/pandas/io/parsers/readers.py:1026\u001b[0m, in \u001b[0;36mread_csv\u001b[0;34m(filepath_or_buffer, sep, delimiter, header, names, index_col, usecols, dtype, engine, converters, true_values, false_values, skipinitialspace, skiprows, skipfooter, nrows, na_values, keep_default_na, na_filter, verbose, skip_blank_lines, parse_dates, infer_datetime_format, keep_date_col, date_parser, date_format, dayfirst, cache_dates, iterator, chunksize, compression, thousands, decimal, lineterminator, quotechar, quoting, doublequote, escapechar, comment, encoding, encoding_errors, dialect, on_bad_lines, delim_whitespace, low_memory, memory_map, float_precision, storage_options, dtype_backend)\u001b[0m\n\u001b[1;32m   1013\u001b[0m kwds_defaults \u001b[38;5;241m=\u001b[39m _refine_defaults_read(\n\u001b[1;32m   1014\u001b[0m     dialect,\n\u001b[1;32m   1015\u001b[0m     delimiter,\n\u001b[0;32m   (...)\u001b[0m\n\u001b[1;32m   1022\u001b[0m     dtype_backend\u001b[38;5;241m=\u001b[39mdtype_backend,\n\u001b[1;32m   1023\u001b[0m )\n\u001b[1;32m   1024\u001b[0m kwds\u001b[38;5;241m.\u001b[39mupdate(kwds_defaults)\n\u001b[0;32m-> 1026\u001b[0m \u001b[38;5;28;01mreturn\u001b[39;00m \u001b[43m_read\u001b[49m\u001b[43m(\u001b[49m\u001b[43mfilepath_or_buffer\u001b[49m\u001b[43m,\u001b[49m\u001b[43m \u001b[49m\u001b[43mkwds\u001b[49m\u001b[43m)\u001b[49m\n",
      "File \u001b[0;32m/Library/Frameworks/Python.framework/Versions/3.13/lib/python3.13/site-packages/pandas/io/parsers/readers.py:620\u001b[0m, in \u001b[0;36m_read\u001b[0;34m(filepath_or_buffer, kwds)\u001b[0m\n\u001b[1;32m    617\u001b[0m _validate_names(kwds\u001b[38;5;241m.\u001b[39mget(\u001b[38;5;124m\"\u001b[39m\u001b[38;5;124mnames\u001b[39m\u001b[38;5;124m\"\u001b[39m, \u001b[38;5;28;01mNone\u001b[39;00m))\n\u001b[1;32m    619\u001b[0m \u001b[38;5;66;03m# Create the parser.\u001b[39;00m\n\u001b[0;32m--> 620\u001b[0m parser \u001b[38;5;241m=\u001b[39m \u001b[43mTextFileReader\u001b[49m\u001b[43m(\u001b[49m\u001b[43mfilepath_or_buffer\u001b[49m\u001b[43m,\u001b[49m\u001b[43m \u001b[49m\u001b[38;5;241;43m*\u001b[39;49m\u001b[38;5;241;43m*\u001b[39;49m\u001b[43mkwds\u001b[49m\u001b[43m)\u001b[49m\n\u001b[1;32m    622\u001b[0m \u001b[38;5;28;01mif\u001b[39;00m chunksize \u001b[38;5;129;01mor\u001b[39;00m iterator:\n\u001b[1;32m    623\u001b[0m     \u001b[38;5;28;01mreturn\u001b[39;00m parser\n",
      "File \u001b[0;32m/Library/Frameworks/Python.framework/Versions/3.13/lib/python3.13/site-packages/pandas/io/parsers/readers.py:1620\u001b[0m, in \u001b[0;36mTextFileReader.__init__\u001b[0;34m(self, f, engine, **kwds)\u001b[0m\n\u001b[1;32m   1617\u001b[0m     \u001b[38;5;28mself\u001b[39m\u001b[38;5;241m.\u001b[39moptions[\u001b[38;5;124m\"\u001b[39m\u001b[38;5;124mhas_index_names\u001b[39m\u001b[38;5;124m\"\u001b[39m] \u001b[38;5;241m=\u001b[39m kwds[\u001b[38;5;124m\"\u001b[39m\u001b[38;5;124mhas_index_names\u001b[39m\u001b[38;5;124m\"\u001b[39m]\n\u001b[1;32m   1619\u001b[0m \u001b[38;5;28mself\u001b[39m\u001b[38;5;241m.\u001b[39mhandles: IOHandles \u001b[38;5;241m|\u001b[39m \u001b[38;5;28;01mNone\u001b[39;00m \u001b[38;5;241m=\u001b[39m \u001b[38;5;28;01mNone\u001b[39;00m\n\u001b[0;32m-> 1620\u001b[0m \u001b[38;5;28mself\u001b[39m\u001b[38;5;241m.\u001b[39m_engine \u001b[38;5;241m=\u001b[39m \u001b[38;5;28;43mself\u001b[39;49m\u001b[38;5;241;43m.\u001b[39;49m\u001b[43m_make_engine\u001b[49m\u001b[43m(\u001b[49m\u001b[43mf\u001b[49m\u001b[43m,\u001b[49m\u001b[43m \u001b[49m\u001b[38;5;28;43mself\u001b[39;49m\u001b[38;5;241;43m.\u001b[39;49m\u001b[43mengine\u001b[49m\u001b[43m)\u001b[49m\n",
      "File \u001b[0;32m/Library/Frameworks/Python.framework/Versions/3.13/lib/python3.13/site-packages/pandas/io/parsers/readers.py:1880\u001b[0m, in \u001b[0;36mTextFileReader._make_engine\u001b[0;34m(self, f, engine)\u001b[0m\n\u001b[1;32m   1878\u001b[0m     \u001b[38;5;28;01mif\u001b[39;00m \u001b[38;5;124m\"\u001b[39m\u001b[38;5;124mb\u001b[39m\u001b[38;5;124m\"\u001b[39m \u001b[38;5;129;01mnot\u001b[39;00m \u001b[38;5;129;01min\u001b[39;00m mode:\n\u001b[1;32m   1879\u001b[0m         mode \u001b[38;5;241m+\u001b[39m\u001b[38;5;241m=\u001b[39m \u001b[38;5;124m\"\u001b[39m\u001b[38;5;124mb\u001b[39m\u001b[38;5;124m\"\u001b[39m\n\u001b[0;32m-> 1880\u001b[0m \u001b[38;5;28mself\u001b[39m\u001b[38;5;241m.\u001b[39mhandles \u001b[38;5;241m=\u001b[39m \u001b[43mget_handle\u001b[49m\u001b[43m(\u001b[49m\n\u001b[1;32m   1881\u001b[0m \u001b[43m    \u001b[49m\u001b[43mf\u001b[49m\u001b[43m,\u001b[49m\n\u001b[1;32m   1882\u001b[0m \u001b[43m    \u001b[49m\u001b[43mmode\u001b[49m\u001b[43m,\u001b[49m\n\u001b[1;32m   1883\u001b[0m \u001b[43m    \u001b[49m\u001b[43mencoding\u001b[49m\u001b[38;5;241;43m=\u001b[39;49m\u001b[38;5;28;43mself\u001b[39;49m\u001b[38;5;241;43m.\u001b[39;49m\u001b[43moptions\u001b[49m\u001b[38;5;241;43m.\u001b[39;49m\u001b[43mget\u001b[49m\u001b[43m(\u001b[49m\u001b[38;5;124;43m\"\u001b[39;49m\u001b[38;5;124;43mencoding\u001b[39;49m\u001b[38;5;124;43m\"\u001b[39;49m\u001b[43m,\u001b[49m\u001b[43m \u001b[49m\u001b[38;5;28;43;01mNone\u001b[39;49;00m\u001b[43m)\u001b[49m\u001b[43m,\u001b[49m\n\u001b[1;32m   1884\u001b[0m \u001b[43m    \u001b[49m\u001b[43mcompression\u001b[49m\u001b[38;5;241;43m=\u001b[39;49m\u001b[38;5;28;43mself\u001b[39;49m\u001b[38;5;241;43m.\u001b[39;49m\u001b[43moptions\u001b[49m\u001b[38;5;241;43m.\u001b[39;49m\u001b[43mget\u001b[49m\u001b[43m(\u001b[49m\u001b[38;5;124;43m\"\u001b[39;49m\u001b[38;5;124;43mcompression\u001b[39;49m\u001b[38;5;124;43m\"\u001b[39;49m\u001b[43m,\u001b[49m\u001b[43m \u001b[49m\u001b[38;5;28;43;01mNone\u001b[39;49;00m\u001b[43m)\u001b[49m\u001b[43m,\u001b[49m\n\u001b[1;32m   1885\u001b[0m \u001b[43m    \u001b[49m\u001b[43mmemory_map\u001b[49m\u001b[38;5;241;43m=\u001b[39;49m\u001b[38;5;28;43mself\u001b[39;49m\u001b[38;5;241;43m.\u001b[39;49m\u001b[43moptions\u001b[49m\u001b[38;5;241;43m.\u001b[39;49m\u001b[43mget\u001b[49m\u001b[43m(\u001b[49m\u001b[38;5;124;43m\"\u001b[39;49m\u001b[38;5;124;43mmemory_map\u001b[39;49m\u001b[38;5;124;43m\"\u001b[39;49m\u001b[43m,\u001b[49m\u001b[43m \u001b[49m\u001b[38;5;28;43;01mFalse\u001b[39;49;00m\u001b[43m)\u001b[49m\u001b[43m,\u001b[49m\n\u001b[1;32m   1886\u001b[0m \u001b[43m    \u001b[49m\u001b[43mis_text\u001b[49m\u001b[38;5;241;43m=\u001b[39;49m\u001b[43mis_text\u001b[49m\u001b[43m,\u001b[49m\n\u001b[1;32m   1887\u001b[0m \u001b[43m    \u001b[49m\u001b[43merrors\u001b[49m\u001b[38;5;241;43m=\u001b[39;49m\u001b[38;5;28;43mself\u001b[39;49m\u001b[38;5;241;43m.\u001b[39;49m\u001b[43moptions\u001b[49m\u001b[38;5;241;43m.\u001b[39;49m\u001b[43mget\u001b[49m\u001b[43m(\u001b[49m\u001b[38;5;124;43m\"\u001b[39;49m\u001b[38;5;124;43mencoding_errors\u001b[39;49m\u001b[38;5;124;43m\"\u001b[39;49m\u001b[43m,\u001b[49m\u001b[43m \u001b[49m\u001b[38;5;124;43m\"\u001b[39;49m\u001b[38;5;124;43mstrict\u001b[39;49m\u001b[38;5;124;43m\"\u001b[39;49m\u001b[43m)\u001b[49m\u001b[43m,\u001b[49m\n\u001b[1;32m   1888\u001b[0m \u001b[43m    \u001b[49m\u001b[43mstorage_options\u001b[49m\u001b[38;5;241;43m=\u001b[39;49m\u001b[38;5;28;43mself\u001b[39;49m\u001b[38;5;241;43m.\u001b[39;49m\u001b[43moptions\u001b[49m\u001b[38;5;241;43m.\u001b[39;49m\u001b[43mget\u001b[49m\u001b[43m(\u001b[49m\u001b[38;5;124;43m\"\u001b[39;49m\u001b[38;5;124;43mstorage_options\u001b[39;49m\u001b[38;5;124;43m\"\u001b[39;49m\u001b[43m,\u001b[49m\u001b[43m \u001b[49m\u001b[38;5;28;43;01mNone\u001b[39;49;00m\u001b[43m)\u001b[49m\u001b[43m,\u001b[49m\n\u001b[1;32m   1889\u001b[0m \u001b[43m\u001b[49m\u001b[43m)\u001b[49m\n\u001b[1;32m   1890\u001b[0m \u001b[38;5;28;01massert\u001b[39;00m \u001b[38;5;28mself\u001b[39m\u001b[38;5;241m.\u001b[39mhandles \u001b[38;5;129;01mis\u001b[39;00m \u001b[38;5;129;01mnot\u001b[39;00m \u001b[38;5;28;01mNone\u001b[39;00m\n\u001b[1;32m   1891\u001b[0m f \u001b[38;5;241m=\u001b[39m \u001b[38;5;28mself\u001b[39m\u001b[38;5;241m.\u001b[39mhandles\u001b[38;5;241m.\u001b[39mhandle\n",
      "File \u001b[0;32m/Library/Frameworks/Python.framework/Versions/3.13/lib/python3.13/site-packages/pandas/io/common.py:873\u001b[0m, in \u001b[0;36mget_handle\u001b[0;34m(path_or_buf, mode, encoding, compression, memory_map, is_text, errors, storage_options)\u001b[0m\n\u001b[1;32m    868\u001b[0m \u001b[38;5;28;01melif\u001b[39;00m \u001b[38;5;28misinstance\u001b[39m(handle, \u001b[38;5;28mstr\u001b[39m):\n\u001b[1;32m    869\u001b[0m     \u001b[38;5;66;03m# Check whether the filename is to be opened in binary mode.\u001b[39;00m\n\u001b[1;32m    870\u001b[0m     \u001b[38;5;66;03m# Binary mode does not support 'encoding' and 'newline'.\u001b[39;00m\n\u001b[1;32m    871\u001b[0m     \u001b[38;5;28;01mif\u001b[39;00m ioargs\u001b[38;5;241m.\u001b[39mencoding \u001b[38;5;129;01mand\u001b[39;00m \u001b[38;5;124m\"\u001b[39m\u001b[38;5;124mb\u001b[39m\u001b[38;5;124m\"\u001b[39m \u001b[38;5;129;01mnot\u001b[39;00m \u001b[38;5;129;01min\u001b[39;00m ioargs\u001b[38;5;241m.\u001b[39mmode:\n\u001b[1;32m    872\u001b[0m         \u001b[38;5;66;03m# Encoding\u001b[39;00m\n\u001b[0;32m--> 873\u001b[0m         handle \u001b[38;5;241m=\u001b[39m \u001b[38;5;28;43mopen\u001b[39;49m\u001b[43m(\u001b[49m\n\u001b[1;32m    874\u001b[0m \u001b[43m            \u001b[49m\u001b[43mhandle\u001b[49m\u001b[43m,\u001b[49m\n\u001b[1;32m    875\u001b[0m \u001b[43m            \u001b[49m\u001b[43mioargs\u001b[49m\u001b[38;5;241;43m.\u001b[39;49m\u001b[43mmode\u001b[49m\u001b[43m,\u001b[49m\n\u001b[1;32m    876\u001b[0m \u001b[43m            \u001b[49m\u001b[43mencoding\u001b[49m\u001b[38;5;241;43m=\u001b[39;49m\u001b[43mioargs\u001b[49m\u001b[38;5;241;43m.\u001b[39;49m\u001b[43mencoding\u001b[49m\u001b[43m,\u001b[49m\n\u001b[1;32m    877\u001b[0m \u001b[43m            \u001b[49m\u001b[43merrors\u001b[49m\u001b[38;5;241;43m=\u001b[39;49m\u001b[43merrors\u001b[49m\u001b[43m,\u001b[49m\n\u001b[1;32m    878\u001b[0m \u001b[43m            \u001b[49m\u001b[43mnewline\u001b[49m\u001b[38;5;241;43m=\u001b[39;49m\u001b[38;5;124;43m\"\u001b[39;49m\u001b[38;5;124;43m\"\u001b[39;49m\u001b[43m,\u001b[49m\n\u001b[1;32m    879\u001b[0m \u001b[43m        \u001b[49m\u001b[43m)\u001b[49m\n\u001b[1;32m    880\u001b[0m     \u001b[38;5;28;01melse\u001b[39;00m:\n\u001b[1;32m    881\u001b[0m         \u001b[38;5;66;03m# Binary mode\u001b[39;00m\n\u001b[1;32m    882\u001b[0m         handle \u001b[38;5;241m=\u001b[39m \u001b[38;5;28mopen\u001b[39m(handle, ioargs\u001b[38;5;241m.\u001b[39mmode)\n",
      "\u001b[0;31mFileNotFoundError\u001b[0m: [Errno 2] No such file or directory: 'blinkit_customer_feedback.csv'"
     ]
    }
   ],
   "source": [
    "#Load Datasets\n",
    "customer_feedback = pd.read_csv(\"blinkit_customer_feedback.csv\")\n",
    "customers = pd.read_csv(\"blinkit_customers.csv\")\n",
    "delivery_performance = pd.read_csv(\"blinkit_delivery_performance.csv\")\n",
    "inventory = pd.read_csv(\"blinkit_inventory.csv\")\n",
    "inventory_new = pd.read_csv(\"blinkit_inventoryNew.csv\")\n",
    "marketing_performance = pd.read_csv(\"blinkit_marketing_performance.csv\")\n",
    "order_items = pd.read_csv(\"blinkit_order_items.csv\")\n",
    "orders = pd.read_csv(\"blinkit_orders.csv\")\n",
    "products = pd.read_csv(\"blinkit_products.csv\")\n",
    "\n",
    "# Check first few rows of a dataset\n",
    "customer_feedback.head()"
   ]
  },
  {
   "cell_type": "code",
   "execution_count": 9,
   "id": "63a76efb-8235-405f-877e-34dc26e7ac51",
   "metadata": {},
   "outputs": [
    {
     "data": {
      "text/plain": [
       "feedback_id          0\n",
       "order_id             0\n",
       "customer_id          0\n",
       "rating               0\n",
       "feedback_text        0\n",
       "feedback_category    0\n",
       "sentiment            0\n",
       "feedback_date        0\n",
       "dtype: int64"
      ]
     },
     "execution_count": 9,
     "metadata": {},
     "output_type": "execute_result"
    }
   ],
   "source": [
    "customer_feedback.isnull().sum()"
   ]
  },
  {
   "cell_type": "code",
   "execution_count": 10,
   "id": "d943cb19-bdb7-420a-97b9-d1df6f97e57c",
   "metadata": {},
   "outputs": [
    {
     "data": {
      "text/plain": [
       "product_id           0\n",
       "product_name         0\n",
       "category             0\n",
       "brand                0\n",
       "price                0\n",
       "mrp                  0\n",
       "margin_percentage    0\n",
       "shelf_life_days      0\n",
       "min_stock_level      0\n",
       "max_stock_level      0\n",
       "dtype: int64"
      ]
     },
     "execution_count": 10,
     "metadata": {},
     "output_type": "execute_result"
    }
   ],
   "source": [
    "products.isnull().sum()"
   ]
  },
  {
   "cell_type": "code",
   "execution_count": 11,
   "id": "54fd1457-dfd5-4aae-99fb-8db3f585058b",
   "metadata": {},
   "outputs": [
    {
     "data": {
      "text/plain": [
       "order_id                  0\n",
       "customer_id               0\n",
       "order_date                0\n",
       "promised_delivery_time    0\n",
       "actual_delivery_time      0\n",
       "delivery_status           0\n",
       "order_total               0\n",
       "payment_method            0\n",
       "delivery_partner_id       0\n",
       "store_id                  0\n",
       "dtype: int64"
      ]
     },
     "execution_count": 11,
     "metadata": {},
     "output_type": "execute_result"
    }
   ],
   "source": [
    "orders.isnull().sum()"
   ]
  },
  {
   "cell_type": "code",
   "execution_count": 12,
   "id": "f73aee03-da82-4dea-bf6e-7a732d967f54",
   "metadata": {},
   "outputs": [
    {
     "data": {
      "text/plain": [
       "order_id      0\n",
       "product_id    0\n",
       "quantity      0\n",
       "unit_price    0\n",
       "dtype: int64"
      ]
     },
     "execution_count": 12,
     "metadata": {},
     "output_type": "execute_result"
    }
   ],
   "source": [
    "order_items.isnull().sum()"
   ]
  },
  {
   "cell_type": "code",
   "execution_count": 13,
   "id": "0375a9bd-141e-4321-978f-029d10de6936",
   "metadata": {},
   "outputs": [
    {
     "data": {
      "text/plain": [
       "campaign_id          0\n",
       "campaign_name        0\n",
       "date                 0\n",
       "target_audience      0\n",
       "channel              0\n",
       "impressions          0\n",
       "clicks               0\n",
       "conversions          0\n",
       "spend                0\n",
       "revenue_generated    0\n",
       "roas                 0\n",
       "dtype: int64"
      ]
     },
     "execution_count": 13,
     "metadata": {},
     "output_type": "execute_result"
    }
   ],
   "source": [
    "marketing_performance.isnull().sum()"
   ]
  },
  {
   "cell_type": "code",
   "execution_count": 14,
   "id": "7e6f90c4-1dbe-43f2-aa11-4653a44e6a9f",
   "metadata": {},
   "outputs": [
    {
     "data": {
      "text/plain": [
       "product_id        0\n",
       "date              0\n",
       "stock_received    0\n",
       "damaged_stock     0\n",
       "dtype: int64"
      ]
     },
     "execution_count": 14,
     "metadata": {},
     "output_type": "execute_result"
    }
   ],
   "source": [
    "inventory_new.isnull().sum()"
   ]
  },
  {
   "cell_type": "code",
   "execution_count": 15,
   "id": "d433b218-d250-43f9-9f7f-261be5d4228b",
   "metadata": {},
   "outputs": [
    {
     "data": {
      "text/plain": [
       "product_id        0\n",
       "date              0\n",
       "stock_received    0\n",
       "damaged_stock     0\n",
       "dtype: int64"
      ]
     },
     "execution_count": 15,
     "metadata": {},
     "output_type": "execute_result"
    }
   ],
   "source": [
    "inventory.isnull().sum()"
   ]
  },
  {
   "cell_type": "code",
   "execution_count": 16,
   "id": "2ba005f6-8a74-4bb4-86af-eb06832ab612",
   "metadata": {},
   "outputs": [
    {
     "data": {
      "text/plain": [
       "order_id                    0\n",
       "delivery_partner_id         0\n",
       "promised_time               0\n",
       "actual_time                 0\n",
       "delivery_time_minutes       0\n",
       "distance_km                 0\n",
       "delivery_status             0\n",
       "reasons_if_delayed       1902\n",
       "dtype: int64"
      ]
     },
     "execution_count": 16,
     "metadata": {},
     "output_type": "execute_result"
    }
   ],
   "source": [
    "delivery_performance.isnull().sum()"
   ]
  },
  {
   "cell_type": "code",
   "execution_count": 17,
   "id": "30a6d1f2-916e-4de3-998c-4b3ab6811e7b",
   "metadata": {},
   "outputs": [
    {
     "data": {
      "text/plain": [
       "customer_id          0\n",
       "customer_name        0\n",
       "email                0\n",
       "phone                0\n",
       "address              0\n",
       "area                 0\n",
       "pincode              0\n",
       "registration_date    0\n",
       "customer_segment     0\n",
       "total_orders         0\n",
       "avg_order_value      0\n",
       "dtype: int64"
      ]
     },
     "execution_count": 17,
     "metadata": {},
     "output_type": "execute_result"
    }
   ],
   "source": [
    "customers.isnull().sum()"
   ]
  },
  {
   "cell_type": "code",
   "execution_count": 20,
   "id": "f5cdb0bf-dab2-4713-a46d-0872e622a03b",
   "metadata": {},
   "outputs": [],
   "source": [
    "#Fill missing delay reasons\n",
    "delivery_performance.loc[:, \"reasons_if_delayed\"] = delivery_performance[\"reasons_if_delayed\"].fillna(\"Unknown\")"
   ]
  },
  {
   "cell_type": "code",
   "execution_count": 21,
   "id": "6bf8765f-64d6-4aac-ae96-2d04495dc6b4",
   "metadata": {},
   "outputs": [],
   "source": [
    "#Standardizing Date Format in inventory & inventory_new\n",
    "inventory.loc[:, \"date\"] = pd.to_datetime(inventory[\"date\"], format=\"%d-%m-%Y\", errors=\"coerce\")"
   ]
  },
  {
   "cell_type": "code",
   "execution_count": 24,
   "id": "6e41d393-c02b-4359-bb18-c8348575cb1f",
   "metadata": {},
   "outputs": [],
   "source": [
    "#Removing Duplicates\n",
    "inventory_new = inventory_new.drop_duplicates()"
   ]
  },
  {
   "cell_type": "code",
   "execution_count": 26,
   "id": "1771e7c2-d8d7-40d0-aabe-75135cef463f",
   "metadata": {},
   "outputs": [],
   "source": [
    "#Fix: Modify delivery_status Column Based on delivery_time_minutes\n",
    "# Define threshold for \"Strictly Delayed\" (changeable as needed)\n",
    "strict_delay_threshold = 10  # minutes\n",
    "\n",
    "# Update the delivery_status column based on conditions\n",
    "delivery_performance.loc[:, \"delivery_status\"] = delivery_performance[\"delivery_time_minutes\"].apply(\n",
    "    lambda x: \"Early\" if x < 0 else \n",
    "              \"Strictly Delayed\" if x > strict_delay_threshold else \n",
    "              \"Late\" if x > 0 else \n",
    "              \"On Time\"\n",
    ")"
   ]
  },
  {
   "cell_type": "code",
   "execution_count": 27,
   "id": "17819fda-d4c2-4ed1-87de-03d3bca1feb4",
   "metadata": {},
   "outputs": [],
   "source": [
    "#Ensuring Correct Pricing (price < mrp)\n",
    "products.loc[products[\"price\"] > products[\"mrp\"], \"price\"] = products.loc[products[\"price\"] > products[\"mrp\"], \"mrp\"]"
   ]
  },
  {
   "cell_type": "code",
   "execution_count": 28,
   "id": "00e1eb62-bb36-48f9-af96-77b477e3c557",
   "metadata": {},
   "outputs": [
    {
     "name": "stdout",
     "output_type": "stream",
     "text": [
      "Missing values in customer_feedback:\n",
      "feedback_id          0\n",
      "order_id             0\n",
      "customer_id          0\n",
      "rating               0\n",
      "feedback_text        0\n",
      "feedback_category    0\n",
      "sentiment            0\n",
      "feedback_date        0\n",
      "dtype: int64 \n",
      "\n",
      "Missing values in customers:\n",
      "customer_id          0\n",
      "customer_name        0\n",
      "email                0\n",
      "phone                0\n",
      "address              0\n",
      "area                 0\n",
      "pincode              0\n",
      "registration_date    0\n",
      "customer_segment     0\n",
      "total_orders         0\n",
      "avg_order_value      0\n",
      "dtype: int64 \n",
      "\n",
      "Missing values in delivery_performance:\n",
      "order_id                 0\n",
      "delivery_partner_id      0\n",
      "promised_time            0\n",
      "actual_time              0\n",
      "delivery_time_minutes    0\n",
      "distance_km              0\n",
      "delivery_status          0\n",
      "reasons_if_delayed       0\n",
      "dtype: int64 \n",
      "\n",
      "Missing values in inventory:\n",
      "product_id        0\n",
      "date              0\n",
      "stock_received    0\n",
      "damaged_stock     0\n",
      "dtype: int64 \n",
      "\n",
      "Missing values in inventory_new:\n",
      "product_id        0\n",
      "date              0\n",
      "stock_received    0\n",
      "damaged_stock     0\n",
      "dtype: int64 \n",
      "\n",
      "Missing values in marketing_performance:\n",
      "campaign_id          0\n",
      "campaign_name        0\n",
      "date                 0\n",
      "target_audience      0\n",
      "channel              0\n",
      "impressions          0\n",
      "clicks               0\n",
      "conversions          0\n",
      "spend                0\n",
      "revenue_generated    0\n",
      "roas                 0\n",
      "dtype: int64 \n",
      "\n",
      "Missing values in order_items:\n",
      "order_id      0\n",
      "product_id    0\n",
      "quantity      0\n",
      "unit_price    0\n",
      "dtype: int64 \n",
      "\n",
      "Missing values in orders:\n",
      "order_id                  0\n",
      "customer_id               0\n",
      "order_date                0\n",
      "promised_delivery_time    0\n",
      "actual_delivery_time      0\n",
      "delivery_status           0\n",
      "order_total               0\n",
      "payment_method            0\n",
      "delivery_partner_id       0\n",
      "store_id                  0\n",
      "dtype: int64 \n",
      "\n",
      "Missing values in products:\n",
      "product_id           0\n",
      "product_name         0\n",
      "category             0\n",
      "brand                0\n",
      "price                0\n",
      "mrp                  0\n",
      "margin_percentage    0\n",
      "shelf_life_days      0\n",
      "min_stock_level      0\n",
      "max_stock_level      0\n",
      "dtype: int64 \n",
      "\n"
     ]
    }
   ],
   "source": [
    "#Final Missing Values Check\n",
    "datasets = {\n",
    "    \"customer_feedback\": customer_feedback,\n",
    "    \"customers\": customers,\n",
    "    \"delivery_performance\": delivery_performance,\n",
    "    \"inventory\": inventory,\n",
    "    \"inventory_new\": inventory_new,\n",
    "    \"marketing_performance\": marketing_performance,\n",
    "    \"order_items\": order_items,\n",
    "    \"orders\": orders,\n",
    "    \"products\": products,\n",
    "}\n",
    "\n",
    "for name, df in datasets.items():\n",
    "    print(f\"Missing values in {name}:\")\n",
    "    print(df.isnull().sum(), \"\\n\")"
   ]
  },
  {
   "cell_type": "code",
   "execution_count": 29,
   "id": "10f00cc3-31a7-4f09-99f5-0f42ab70cf7d",
   "metadata": {},
   "outputs": [],
   "source": [
    "customer_feedback.to_csv(\"cleaned_customer_feedback.csv\", index=False)"
   ]
  },
  {
   "cell_type": "code",
   "execution_count": 30,
   "id": "68d1670a-3cfb-41c5-a771-7a7cc34db6eb",
   "metadata": {},
   "outputs": [],
   "source": [
    "customers.to_csv(\"cleaned_customers.csv\", index=False)"
   ]
  },
  {
   "cell_type": "code",
   "execution_count": 31,
   "id": "56be39a6-5c62-4068-8999-192e5bc70544",
   "metadata": {},
   "outputs": [],
   "source": [
    "delivery_performance.to_csv(\"cleaned_delivery_performance.csv\", index=False)"
   ]
  },
  {
   "cell_type": "code",
   "execution_count": 32,
   "id": "4b1aea54-bb0b-41b4-bafc-cdfd9ecc55c7",
   "metadata": {},
   "outputs": [],
   "source": [
    "inventory.to_csv(\"cleaned_inventory.csv\", index=False)"
   ]
  },
  {
   "cell_type": "code",
   "execution_count": 33,
   "id": "9ba53de1-8586-46d5-b682-ecf55e3b86ea",
   "metadata": {},
   "outputs": [],
   "source": [
    "inventory_new.to_csv(\"cleaned_inventoryNew.csv\", index=False)"
   ]
  },
  {
   "cell_type": "code",
   "execution_count": 34,
   "id": "c7038891-b368-460a-ab1c-f55dbacbefe8",
   "metadata": {},
   "outputs": [],
   "source": [
    "marketing_performance.to_csv(\"cleaned_marketing_performance.csv\", index=False)"
   ]
  },
  {
   "cell_type": "code",
   "execution_count": 35,
   "id": "d9a76996-c4e5-4355-8d67-0b2478a79114",
   "metadata": {},
   "outputs": [],
   "source": [
    "order_items.to_csv(\"cleaned_order_items.csv\", index=False)"
   ]
  },
  {
   "cell_type": "code",
   "execution_count": 36,
   "id": "3e11d705-7c16-4350-89ee-bbe7e38c319c",
   "metadata": {},
   "outputs": [],
   "source": [
    "orders.to_csv(\"cleaned_orders.csv\", index=False)"
   ]
  },
  {
   "cell_type": "code",
   "execution_count": 37,
   "id": "58896690-00e7-40bb-8ac8-132f0801b3c5",
   "metadata": {},
   "outputs": [],
   "source": [
    "products.to_csv(\"cleaned_products.csv\", index=False)"
   ]
  },
  {
   "cell_type": "code",
   "execution_count": 38,
   "id": "e47d7436-2a9e-4986-94eb-c704a64f9380",
   "metadata": {},
   "outputs": [],
   "source": [
    "orders[\"promised_delivery_time\"] = pd.to_datetime(orders[\"promised_delivery_time\"], errors=\"coerce\")\n",
    "orders[\"actual_delivery_time\"] = pd.to_datetime(orders[\"actual_delivery_time\"], errors=\"coerce\")"
   ]
  },
  {
   "cell_type": "code",
   "execution_count": 39,
   "id": "e01a968d-2cdc-442e-be92-a4cd1ac520ed",
   "metadata": {},
   "outputs": [],
   "source": [
    "# Calculate delivery time difference in minutes\n",
    "orders[\"delivery_time_minutes\"] = (\n",
    "    (orders[\"actual_delivery_time\"] - orders[\"promised_delivery_time\"]).dt.total_seconds() / 60\n",
    ")"
   ]
  },
  {
   "cell_type": "code",
   "execution_count": 40,
   "id": "648bc9c0-80b1-4ab3-8ada-c16cf6d0aa65",
   "metadata": {},
   "outputs": [],
   "source": [
    "# Define threshold for \"Strictly Delayed\"\n",
    "strict_delay_threshold = 10  # minutes\n",
    "\n",
    "# Apply classification logic\n",
    "orders[\"delivery_status\"] = orders[\"delivery_time_minutes\"].apply(\n",
    "    lambda x: \"Early\" if x < 0 else \n",
    "              \"Strictly Delayed\" if x > strict_delay_threshold else \n",
    "              \"Late\" if x > 0 else \n",
    "              \"On Time\"\n",
    ")"
   ]
  },
  {
   "cell_type": "code",
   "execution_count": 41,
   "id": "d066c059-0069-41ad-ad07-c3bd8e68ae70",
   "metadata": {},
   "outputs": [
    {
     "data": {
      "text/html": [
       "<div>\n",
       "<style scoped>\n",
       "    .dataframe tbody tr th:only-of-type {\n",
       "        vertical-align: middle;\n",
       "    }\n",
       "\n",
       "    .dataframe tbody tr th {\n",
       "        vertical-align: top;\n",
       "    }\n",
       "\n",
       "    .dataframe thead th {\n",
       "        text-align: right;\n",
       "    }\n",
       "</style>\n",
       "<table border=\"1\" class=\"dataframe\">\n",
       "  <thead>\n",
       "    <tr style=\"text-align: right;\">\n",
       "      <th></th>\n",
       "      <th>promised_delivery_time</th>\n",
       "      <th>actual_delivery_time</th>\n",
       "      <th>delivery_time_minutes</th>\n",
       "      <th>delivery_status</th>\n",
       "    </tr>\n",
       "  </thead>\n",
       "  <tbody>\n",
       "    <tr>\n",
       "      <th>0</th>\n",
       "      <td>2024-07-17 08:52:01</td>\n",
       "      <td>2024-07-17 08:47:01</td>\n",
       "      <td>-5.0</td>\n",
       "      <td>Early</td>\n",
       "    </tr>\n",
       "    <tr>\n",
       "      <th>1</th>\n",
       "      <td>2024-05-28 13:25:29</td>\n",
       "      <td>2024-05-28 13:27:29</td>\n",
       "      <td>2.0</td>\n",
       "      <td>Late</td>\n",
       "    </tr>\n",
       "    <tr>\n",
       "      <th>2</th>\n",
       "      <td>2024-09-23 13:25:12</td>\n",
       "      <td>2024-09-23 13:29:12</td>\n",
       "      <td>4.0</td>\n",
       "      <td>Late</td>\n",
       "    </tr>\n",
       "    <tr>\n",
       "      <th>3</th>\n",
       "      <td>2023-11-24 16:34:56</td>\n",
       "      <td>2023-11-24 16:33:56</td>\n",
       "      <td>-1.0</td>\n",
       "      <td>Early</td>\n",
       "    </tr>\n",
       "    <tr>\n",
       "      <th>4</th>\n",
       "      <td>2023-11-20 05:17:39</td>\n",
       "      <td>2023-11-20 05:18:39</td>\n",
       "      <td>1.0</td>\n",
       "      <td>Late</td>\n",
       "    </tr>\n",
       "    <tr>\n",
       "      <th>5</th>\n",
       "      <td>2023-03-18 16:49:51</td>\n",
       "      <td>2023-03-18 16:48:51</td>\n",
       "      <td>-1.0</td>\n",
       "      <td>Early</td>\n",
       "    </tr>\n",
       "    <tr>\n",
       "      <th>6</th>\n",
       "      <td>2023-04-16 19:01:37</td>\n",
       "      <td>2023-04-16 19:02:37</td>\n",
       "      <td>1.0</td>\n",
       "      <td>Late</td>\n",
       "    </tr>\n",
       "    <tr>\n",
       "      <th>7</th>\n",
       "      <td>2024-03-31 06:37:48</td>\n",
       "      <td>2024-03-31 06:39:48</td>\n",
       "      <td>2.0</td>\n",
       "      <td>Late</td>\n",
       "    </tr>\n",
       "    <tr>\n",
       "      <th>8</th>\n",
       "      <td>2023-07-14 00:02:36</td>\n",
       "      <td>2023-07-14 00:05:36</td>\n",
       "      <td>3.0</td>\n",
       "      <td>Late</td>\n",
       "    </tr>\n",
       "    <tr>\n",
       "      <th>9</th>\n",
       "      <td>2023-08-09 01:37:30</td>\n",
       "      <td>2023-08-09 01:44:30</td>\n",
       "      <td>7.0</td>\n",
       "      <td>Late</td>\n",
       "    </tr>\n",
       "  </tbody>\n",
       "</table>\n",
       "</div>"
      ],
      "text/plain": [
       "  promised_delivery_time actual_delivery_time  delivery_time_minutes  \\\n",
       "0    2024-07-17 08:52:01  2024-07-17 08:47:01                   -5.0   \n",
       "1    2024-05-28 13:25:29  2024-05-28 13:27:29                    2.0   \n",
       "2    2024-09-23 13:25:12  2024-09-23 13:29:12                    4.0   \n",
       "3    2023-11-24 16:34:56  2023-11-24 16:33:56                   -1.0   \n",
       "4    2023-11-20 05:17:39  2023-11-20 05:18:39                    1.0   \n",
       "5    2023-03-18 16:49:51  2023-03-18 16:48:51                   -1.0   \n",
       "6    2023-04-16 19:01:37  2023-04-16 19:02:37                    1.0   \n",
       "7    2024-03-31 06:37:48  2024-03-31 06:39:48                    2.0   \n",
       "8    2023-07-14 00:02:36  2023-07-14 00:05:36                    3.0   \n",
       "9    2023-08-09 01:37:30  2023-08-09 01:44:30                    7.0   \n",
       "\n",
       "  delivery_status  \n",
       "0           Early  \n",
       "1            Late  \n",
       "2            Late  \n",
       "3           Early  \n",
       "4            Late  \n",
       "5           Early  \n",
       "6            Late  \n",
       "7            Late  \n",
       "8            Late  \n",
       "9            Late  "
      ]
     },
     "execution_count": 41,
     "metadata": {},
     "output_type": "execute_result"
    }
   ],
   "source": [
    "orders[[\"promised_delivery_time\", \"actual_delivery_time\", \"delivery_time_minutes\", \"delivery_status\"]].head(10)"
   ]
  },
  {
   "cell_type": "code",
   "execution_count": 42,
   "id": "a7c019f1-7bda-4f51-96b2-95feea79c363",
   "metadata": {},
   "outputs": [
    {
     "name": "stdout",
     "output_type": "stream",
     "text": [
      "✅ Cleaned orders dataset saved successfully.\n"
     ]
    }
   ],
   "source": [
    "orders.to_csv(\"cleaned_orders.csv\", index=False)\n",
    "print(\"✅ Cleaned orders dataset saved successfully.\")"
   ]
  },
  {
   "cell_type": "code",
   "execution_count": null,
   "id": "07c64946-ffee-4fbc-88e6-695c4606ff85",
   "metadata": {},
   "outputs": [],
   "source": []
  }
 ],
 "metadata": {
  "kernelspec": {
   "display_name": "Python 3 (ipykernel)",
   "language": "python",
   "name": "python3"
  },
  "language_info": {
   "codemirror_mode": {
    "name": "ipython",
    "version": 3
   },
   "file_extension": ".py",
   "mimetype": "text/x-python",
   "name": "python",
   "nbconvert_exporter": "python",
   "pygments_lexer": "ipython3",
   "version": "3.13.2"
  }
 },
 "nbformat": 4,
 "nbformat_minor": 5
}
